{
 "cells": [
  {
   "cell_type": "markdown",
   "metadata": {},
   "source": [
    "# Template for Preparing Data as TFRecords\n",
    "TFRecord (*.tfrecord) is the recommended format for loading data into TensorFlow models.\n",
    "\n",
    "This template shows how to save data as tfrecord files.\n",
    "\n",
    "Relevant TensorFlow Docs\n",
    "<ul>\n",
    "    <li><a href='https://www.tensorflow.org/api_docs/python/tf/train/Int64List'>Int64List</a> and <a href='https://www.tensorflow.org/api_docs/python/tf/train/BytesList'>BytesList</a> and <a href='https://www.tensorflow.org/api_docs/python/tf/train/FloatList'>FloatList</a></li>\n",
    "    <li><a href='https://www.tensorflow.org/versions/master/api_docs/python/tf/train/Feature'>Feature</a></li>\n",
    "    <li><a href='https://www.tensorflow.org/versions/master/api_docs/python/tf/train/Example'>Example</a></li>\n",
    "    <li><a href='https://www.tensorflow.org/api_docs/python/tf/python_io/TFRecordWriter'>TFRecordWriter</a></li>\n",
    "    \n",
    "</ul>\n",
    "\n",
    "Template based off great blog post tutorial by Machine Learning Guru <a href='http://www.machinelearninguru.com/deep_learning/tensorflow/basics/tfrecord/tfrecord.html'>How to write into and read from a TFRecords file in TensorFlow</a> and TensorFlow example <a href='https://github.com/tensorflow/tensorflow/blob/master/tensorflow/examples/how_tos/reading_data/convert_to_records.py'>here</a>."
   ]
  },
  {
   "cell_type": "code",
   "execution_count": 1,
   "metadata": {},
   "outputs": [],
   "source": [
    "import tensorflow as tf\n",
    "\n",
    "# Helper functions to create features with specified data type\n",
    "def int64_feature(value):\n",
    "    return tf.train.Feature(int64_list=tf.train.Int64List(value=[value]))\n",
    "\n",
    "def bytes_feature(value):\n",
    "    return tf.train.Feature(bytes_list=tf.train.BytesList(value=[value]))\n",
    "\n",
    "def float_feature(value):\n",
    "    return tf.train.Feature(bytes_list=tf.train.FloatList(value=[value]))"
   ]
  },
  {
   "cell_type": "code",
   "execution_count": 2,
   "metadata": {},
   "outputs": [],
   "source": [
    "''' Create a TFRecords file.\n",
    "    \n",
    "    inputs:\n",
    "        filename - name of TFRecord file, <filename>.tfrecord\n",
    "        examples - python dictionary of examples to write to <filename>.tfrecord\n",
    "                 - dictionary keys can be different attributes of example, such\n",
    "                   as the 3D image and a label, {'images': ..., 'labels': ...}\n",
    "        parse_fn - function taht parses the example numbered index from examples  \n",
    "                    and returns its dictionary of feaures ready to be passed \n",
    "                    to tf.train.Features(feature=...)\n",
    "'''\n",
    "def create_tfrecord(filename, examples, parse_fn):\n",
    "    keys = examples.keys()\n",
    "    num_examples = examples[list(keys)[0]].shape[0]\n",
    "    writer = tf.python_io.TFRecordWriter(filename)\n",
    "    \n",
    "    # Write each data examplar to TFRecord File\n",
    "    for e in range(num_examples):\n",
    "        # Parse this example\n",
    "        features = parse_fn(examples, e)\n",
    "        \n",
    "        # Create Example out of Features\n",
    "        example = tf.train.Example(features=tf.train.Features(feature=features))\n",
    "\n",
    "        # Write Example to TFRecord file\n",
    "        writer.write(example.SerializeToString())\n",
    "\n",
    "        # Monitor progress\n",
    "        if not e % 1000 and e != 0:\n",
    "            print(str(e) + ' examples written to ' + str(filename) + '.')"
   ]
  },
  {
   "cell_type": "code",
   "execution_count": 3,
   "metadata": {},
   "outputs": [],
   "source": [
    "''' Parses the example numbered index from examples and  returns its dictionary \n",
    "        of feaures ready to be passed to tf.train.Features(feature=...)\n",
    "\n",
    "    inputs: \n",
    "        examples - dictionary of each example where\n",
    "            examples['key'] is a list of some attribute for each example, such as 'image' or 'label'\n",
    "            examples['key'][i] is the value of 'key' for example i\n",
    "        index - the example to parse\n",
    "    \n",
    "    outputs:\n",
    "        features - dictionary of features for the index element of the dataset\n",
    "\n",
    "'''\n",
    "def parse(examples, index):\n",
    "    \n",
    "    image = examples['images'][index]\n",
    "    label = examples['labels'][index]\n",
    "    shape = image.shape\n",
    "    \n",
    "    features = {\n",
    "        'height': int64_feature(shape[0]),\n",
    "        'width': int64_feature(shape[1]),\n",
    "        'depth': int64_feature(shape[2]),\n",
    "        'label': int64_feature(int(label)),\n",
    "        'image_raw': bytes_feature(image.tostring())\n",
    "    }\n",
    "    \n",
    "    return features\n",
    "    \n"
   ]
  },
  {
   "cell_type": "code",
   "execution_count": 4,
   "metadata": {},
   "outputs": [
    {
     "name": "stdout",
     "output_type": "stream",
     "text": [
      "Extracting MNIST/train-images-idx3-ubyte.gz\n",
      "Extracting MNIST/train-labels-idx1-ubyte.gz\n",
      "Extracting MNIST/t10k-images-idx3-ubyte.gz\n",
      "Extracting MNIST/t10k-labels-idx1-ubyte.gz\n",
      "Training images: (10000, 28, 28, 1) uint8\n",
      "Training labels: (10000,) uint8\n",
      "Validation images: (1000, 28, 28, 1) uint8\n",
      "Validation labels: (1000,) uint8\n"
     ]
    }
   ],
   "source": [
    "# Gather Data\n",
    "\n",
    "##########################\n",
    "###   Your Code Here   ###\n",
    "##########################\n",
    "\n",
    "from tensorflow.contrib.learn.python.learn.datasets import mnist\n",
    "\n",
    "data_sets = mnist.read_data_sets(\"MNIST/\",\n",
    "    dtype=tf.uint8,\n",
    "    reshape=False,\n",
    "    validation_size=1000)\n",
    "\n",
    "train_images = data_sets.train.images[0:10000]\n",
    "train_labels = data_sets.train.labels[0:10000]\n",
    "print('Training images: ' + str(train_images.shape) + ' ' + str(train_images.dtype))\n",
    "print('Training labels: ' + str(train_labels.shape) + ' ' + str(train_labels.dtype))\n",
    "train_data = {'images': train_images, 'labels': train_labels}\n",
    "\n",
    "val_images = data_sets.validation.images\n",
    "val_labels = data_sets.validation.labels\n",
    "print('Validation images: ' + str(val_images.shape) + ' ' + str(val_images.dtype))\n",
    "print('Validation labels: ' + str(val_labels.shape) + ' ' + str(val_labels.dtype))\n",
    "val_data = {'images': val_images, 'labels': val_labels}\n"
   ]
  },
  {
   "cell_type": "code",
   "execution_count": 5,
   "metadata": {},
   "outputs": [],
   "source": [
    "train_file = 'mnist_train'\n",
    "val_file = 'mnist_val'"
   ]
  },
  {
   "cell_type": "code",
   "execution_count": 6,
   "metadata": {},
   "outputs": [
    {
     "name": "stdout",
     "output_type": "stream",
     "text": [
      "Creating train TFRecord mnist_train\n",
      "1000 examples written to mnist_train.\n",
      "2000 examples written to mnist_train.\n",
      "3000 examples written to mnist_train.\n",
      "4000 examples written to mnist_train.\n",
      "5000 examples written to mnist_train.\n",
      "6000 examples written to mnist_train.\n",
      "7000 examples written to mnist_train.\n",
      "8000 examples written to mnist_train.\n",
      "9000 examples written to mnist_train.\n",
      "Created train TFRecord mnist_train\n",
      "\n",
      "Creating validation TFRecord mnist_val\n",
      "Created validation TFRecord mnist_val\n",
      "\n"
     ]
    }
   ],
   "source": [
    "print('Creating train TFRecord ' + str(train_file))\n",
    "create_tfrecord(train_file, train_data, parse)\n",
    "print('Created train TFRecord ' + str(train_file) + '\\n')\n",
    "\n",
    "print('Creating validation TFRecord ' + str(val_file))\n",
    "create_tfrecord(val_file, val_data, parse)\n",
    "print('Created validation TFRecord ' + str(val_file) + '\\n')"
   ]
  }
 ],
 "metadata": {
  "kernelspec": {
   "display_name": "Python 3",
   "language": "python",
   "name": "python3"
  },
  "language_info": {
   "codemirror_mode": {
    "name": "ipython",
    "version": 3
   },
   "file_extension": ".py",
   "mimetype": "text/x-python",
   "name": "python",
   "nbconvert_exporter": "python",
   "pygments_lexer": "ipython3",
   "version": "3.6.1"
  }
 },
 "nbformat": 4,
 "nbformat_minor": 2
}
