{
 "cells": [
  {
   "cell_type": "code",
   "execution_count": null,
   "metadata": {
    "collapsed": true
   },
   "outputs": [],
   "source": [
    "# Imports\n",
    "import tensorflow as tf\n",
    "import numpy as np"
   ]
  },
  {
   "cell_type": "code",
   "execution_count": null,
   "metadata": {
    "collapsed": true
   },
   "outputs": [],
   "source": [
    "verbose=True\n",
    "\n",
    "# Helper Functions\n",
    "def vprint(s, v=verbose):\n",
    "    if v:\n",
    "        print(s)"
   ]
  },
  {
   "cell_type": "code",
   "execution_count": null,
   "metadata": {
    "collapsed": true
   },
   "outputs": [],
   "source": [
    "params = tf.contrib.training.HParams(\n",
    "    learning_rate = 0.001,\n",
    "    batch_size = 32,\n",
    "    layers = [\n",
    "        {},\n",
    "        {}\n",
    "    ]\n",
    ")\n",
    "params.add_hparam('num_layers', len(params.layers))"
   ]
  },
  {
   "cell_type": "code",
   "execution_count": null,
   "metadata": {
    "collapsed": true
   },
   "outputs": [],
   "source": [
    "config = tf.estimator.RunConfig(\n",
    "    tf_random_seed=0,\n",
    "    save_checkpoints_steps=250,\n",
    "    save_checkpoints_secs=None,\n",
    "    save_summary_steps=10,\n",
    ")"
   ]
  },
  {
   "cell_type": "code",
   "execution_count": null,
   "metadata": {
    "collapsed": true
   },
   "outputs": [],
   "source": [
    "''' Defines the model function passed into tf.estimator.  \n",
    "    This function defines the computational logic for the model.\n",
    "\n",
    "    Implementation:\n",
    "        1. Define the model's computations with TensorFlow operations\n",
    "        2. Generate predictions and return a prediction EstimatorSpec\n",
    "        3. Define the loss function for training and evaluation\n",
    "        4. Define the training operation and optimizer\n",
    "        5. Return loss, train_op, eval_metric_ops in an EstimatorSpec\n",
    "\n",
    "        Inputs:\n",
    "            features: A dict containing the features passed to the model via input_fn\n",
    "            labels: A Tensor containing the labels passed to the model via input_fn\n",
    "            mode: One of the following tf.estimator.ModeKeys string values indicating\n",
    "                   the context in which the model_fn was invoked \n",
    "                      - tf.estimator.ModeKeys.TRAIN ---> model.train()\n",
    "                      - tf.estimator.ModeKeys.EVAL, ---> model.evaluate()\n",
    "                      - tf.estimator.ModeKeys.PREDICT -> model.predict()\n",
    "\n",
    "        Outputs:\n",
    "            tf.EstimatorSpec that defines the model in different modes. '''\n",
    "def model_fn(features, labels, mode, params):\n",
    "    # 1. Define model structure\n",
    "    \n",
    "    # ...\n",
    "    # convolutions, denses, and batch norms, oh my!\n",
    "    # ...\n",
    "\n",
    "    # 2. Generate predictions\n",
    "    if mode == tf.estimator.ModeKeys.PREDICT:\n",
    "        predictions = {'output_str': output_var} # alter this dictionary for your model\n",
    "        return tf.estimator.EstimatorSpec(mode=mode, predictions=predictions)\n",
    "    \n",
    "    # 3. Define the loss functions\n",
    "    #loss = ...\n",
    "    \n",
    "    # 3.1 Additional metrics for monitoring\n",
    "    eval_metric_ops = {\"rmse\": tf.metrics.root_mean_squared_error(\n",
    "          tf.cast(labels, tf.float64), output)}\n",
    "    \n",
    "    # 4. Define optimizer\n",
    "    optimizer = tf.train.AdamOptimizer(learning_rate=params.learning_rate)\n",
    "    train_op = optimizer.minimize(loss=loss, global_step=tf.train.get_global_step())\n",
    "    \n",
    "    # 5. Return training/evaluation EstimatorSpec\n",
    "    return tf.estimator.EstimatorSpec(mode=mode, loss=loss, train_op=train_op, eval_metric_ops=eval_metric_ops)\n",
    "    "
   ]
  },
  {
   "cell_type": "code",
   "execution_count": null,
   "metadata": {
    "collapsed": true
   },
   "outputs": [],
   "source": []
  }
 ],
 "metadata": {
  "anaconda-cloud": {},
  "kernelspec": {
   "display_name": "Python 3",
   "language": "python",
   "name": "python3"
  },
  "language_info": {
   "codemirror_mode": {
    "name": "ipython",
    "version": 3
   },
   "file_extension": ".py",
   "mimetype": "text/x-python",
   "name": "python",
   "nbconvert_exporter": "python",
   "pygments_lexer": "ipython3",
   "version": "3.6.1"
  }
 },
 "nbformat": 4,
 "nbformat_minor": 1
}
