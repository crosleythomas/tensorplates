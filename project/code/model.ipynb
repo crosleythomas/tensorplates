{
 "cells": [
  {
   "cell_type": "code",
   "execution_count": null,
   "metadata": {
    "collapsed": true
   },
   "outputs": [],
   "source": [
    "# Imports\n",
    "import tensorflow as tf\n",
    "import numpy as np"
   ]
  },
  {
   "cell_type": "code",
   "execution_count": null,
   "metadata": {
    "collapsed": true
   },
   "outputs": [],
   "source": [
    "verbose=True\n",
    "\n",
    "# Helper Functions\n",
    "def vprint(s, v=verbose):\n",
    "    if v:\n",
    "        print(s)"
   ]
  },
  {
   "cell_type": "code",
   "execution_count": null,
   "metadata": {
    "collapsed": true
   },
   "outputs": [],
   "source": [
    "def get_hyper_params():\n",
    "    params = tf.contrib.training.HParams(\n",
    "        layers = [\n",
    "            {},\n",
    "            {}\n",
    "        ]\n",
    "    )\n",
    "    params.add_hparams('num_layers', len(params.layers))\n",
    "    return params"
   ]
  },
  {
   "cell_type": "code",
   "execution_count": null,
   "metadata": {
    "collapsed": true
   },
   "outputs": [],
   "source": [
    "'''\n",
    "Defines the model function passed into tf.estimator.  \n",
    "This function defines the computational logic for the model.\n",
    "\n",
    "Implementation:\n",
    "    1. Define the model's computations with TensorFlow operations\n",
    "    2. Generate predictions and return a prediction EstimatorSpec\n",
    "    3. Define the loss function for training and evaluation\n",
    "    4. Define the training operation and optimizer\n",
    "    5. Return loss, train_op, eval_metric_ops in an EstimatorSpec\n",
    "\n",
    "    Inputs:\n",
    "        features: A dict containing the features passed to the model via input_fn\n",
    "        labels: A Tensor containing the labels passed to the model via input_fn\n",
    "        mode: One of the following tf.estimator.ModeKeys string values indicating\n",
    "               the context in which the model_fn was invoked \n",
    "                  - tf.estimator.ModeKeys.TRAIN ---> model.train()\n",
    "                  - tf.estimator.ModeKeys.EVAL, ---> model.evaluate()\n",
    "                  - tf.estimator.ModeKeys.PREDICT -> model.predict()\n",
    "\n",
    "    Outputs:\n",
    "        tf.EstimatorSpec that defines the model in different modes.\n",
    "'''\n",
    "def model_fn(features, labels, mode, params):\n",
    "    # 1. Define model structure\n",
    "    \n",
    "    # ...\n",
    "    # convolutions, denses, and batch norms, oh my!\n",
    "    # ...\n",
    "\n",
    "    # 2. Generate predictions\n",
    "    if mode == tf.estimator.ModeKeys.PREDICT:\n",
    "        predictions = {'output_str': output_var} # alter this dictionary for your model\n",
    "        return tf.estimator.EstimatorSpec(mode=mode, predictions=predictions)\n",
    "    \n",
    "    # 3. Define the loss functions\n",
    "    #loss = ...\n",
    "    \n",
    "    # 3.1 Additional metrics for monitoring\n",
    "    eval_metric_ops = {\"rmse\": tf.metrics.root_mean_squared_error(\n",
    "          tf.cast(labels, tf.float64), output)}\n",
    "    \n",
    "    # 4. Define optimizer\n",
    "    optimizer = tf.train.AdamOptimizer(learning_rate=params['learning_rate'])\n",
    "    train_op = optimizer.minimize(loss=loss, global_step=tf.train.get_global_step())\n",
    "    \n",
    "    # 5. Return training/evaluation EstimatorSpec\n",
    "    return EstimatorSpec(mode, predictions, loss, train_op, eval_metric_ops)\n",
    "    "
   ]
  },
  {
   "cell_type": "code",
   "execution_count": null,
   "metadata": {
    "collapsed": true
   },
   "outputs": [],
   "source": [
    "def load_estimator(model=None, model_dir=None, config=None, params=None):\n",
    "    return tf.estimator.Estimator(model_fn=model, model_dir=model_dir, config=config, params=params)"
   ]
  },
  {
   "cell_type": "code",
   "execution_count": null,
   "metadata": {
    "collapsed": true
   },
   "outputs": [],
   "source": []
  }
 ],
 "metadata": {
  "anaconda-cloud": {},
  "kernelspec": {
   "display_name": "Python [env]",
   "language": "python",
   "name": "Python [env]"
  },
  "language_info": {
   "codemirror_mode": {
    "name": "ipython",
    "version": 3
   },
   "file_extension": ".py",
   "mimetype": "text/x-python",
   "name": "python",
   "nbconvert_exporter": "python",
   "pygments_lexer": "ipython3",
   "version": "3.6.1"
  }
 },
 "nbformat": 4,
 "nbformat_minor": 0
}
