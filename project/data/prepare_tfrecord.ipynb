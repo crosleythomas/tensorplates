{
 "cells": [
  {
   "cell_type": "markdown",
   "metadata": {},
   "source": [
    "## Template for Preparing Data as TFRecords\n",
    "TFRecord (*.tfrecord) is the recommended format for loading data into TensorFlow models.\n",
    "\n",
    "This template can be used to save data as tfrecord files.\n",
    "\n",
    "Relevant TensorFlow Docs\n",
    "<ul>\n",
    "    <li><a href='https://www.tensorflow.org/api_docs/python/tf/train/Int64List'>Int64List</a> and <a href='https://www.tensorflow.org/api_docs/python/tf/train/BytesList'>BytesList</a> and <a href='https://www.tensorflow.org/api_docs/python/tf/train/FloatList'>FloatList</a></li>\n",
    "    <li><a href='https://www.tensorflow.org/versions/master/api_docs/python/tf/train/Feature'>Feature</a></li>\n",
    "    <li><a href='https://www.tensorflow.org/versions/master/api_docs/python/tf/train/Example'>Example</a></li>\n",
    "    <li><a href='https://www.tensorflow.org/api_docs/python/tf/python_io/TFRecordWriter'>TFRecordWriter</a></li>\n",
    "    \n",
    "</ul>"
   ]
  },
  {
   "cell_type": "code",
   "execution_count": null,
   "metadata": {
    "collapsed": true
   },
   "outputs": [],
   "source": [
    "import tensorflow as tf\n",
    "import numpy as np\n",
    "import glob, os\n",
    "\n",
    "def int64_feature(value):\n",
    "    return tf.train.Feature(int64_list=tf.train.Int64List(value=[value]))\n",
    "\n",
    "def bytes_feature(value):\n",
    "    return tf.train.Feature(bytes_list=tf.train.BytesList(value=[value]))\n",
    "\n",
    "def float_feature(value):\n",
    "    return tf.train.Feature(bytes_list=tf.train.FloatList(value=[value]))"
   ]
  },
  {
   "cell_type": "code",
   "execution_count": null,
   "metadata": {
    "collapsed": true
   },
   "outputs": [],
   "source": [
    "''' Create a TFRecords file.\n",
    "    \n",
    "    inputs:\n",
    "        filename - name of TFRecord file, <filename>.tfrecord\n",
    "        examples - python list of examples to write to <filename>.tfrecord\n",
    "                 - each element of the list is a dictionary of attributes, {'image': ..., 'label': ...}\n",
    "        parse_fn - function that parses the example and returns its dictionary of \n",
    "                    feaures ready to be passed to tf.train.Features(feature=...)\n",
    "'''\n",
    "def create_tfrecord(filename, examples, parse_fn):\n",
    "    num_examples = len(examples)\n",
    "    writer = tf.python_io.TFRecordWriter(filename)\n",
    "    \n",
    "    # Write each data examplar to TFRecord File\n",
    "    for e in range(num_examples):\n",
    "        # Parse this example\n",
    "        features = parse_fn(examples[e])\n",
    "        \n",
    "        # Create Example out of Features\n",
    "        example = tf.train.Example(features=tf.train.Features(feature=features))\n",
    "\n",
    "        # Write Example to TFRecord file\n",
    "        writer.write(example.SerializeToString())\n",
    "\n",
    "        # Monitor progress\n",
    "        if not e % 1000 and e != 0:\n",
    "            print(str(e) + ' examples written to ' + str(filename) + '.')"
   ]
  },
  {
   "cell_type": "code",
   "execution_count": null,
   "metadata": {
    "collapsed": true
   },
   "outputs": [],
   "source": [
    "''' Parses the example and returns its dictionary of feaures \n",
    "        ready to be passed to tf.train.Features(feature=...)\n",
    "\n",
    "    inputs: \n",
    "        example - dictionary of features\n",
    "    \n",
    "    outputs:\n",
    "        features - dictionary of tf.train.Feature objects\n",
    "\n",
    "'''\n",
    "def parse(example):\n",
    "    \n",
    "    features = {\n",
    "\n",
    "        \n",
    "        \n",
    "    }\n",
    "\n",
    "    return features\n"
   ]
  },
  {
   "cell_type": "code",
   "execution_count": null,
   "metadata": {},
   "outputs": [],
   "source": [
    "# Gather Data\n",
    "data_dirs = glob.glob('images/*')\n",
    "data_files = []\n",
    "for d in data_dirs:\n",
    "    data_files.extend(glob.glob(d + '/*.png'))\n"
   ]
  },
  {
   "cell_type": "code",
   "execution_count": null,
   "metadata": {},
   "outputs": [],
   "source": [
    "# Any testing of dataset\n",
    "#    Pre-computing mean/std of data\n",
    "#    Count of class imbalance\n",
    "#    Visualization of some data (i.e. plt.imshow(...))\n",
    "#    etc.\n"
   ]
  },
  {
   "cell_type": "code",
   "execution_count": null,
   "metadata": {
    "collapsed": true
   },
   "outputs": [],
   "source": [
    "# Some split into train and test as lists where each index of the \n",
    "#    list is a dictionary that maps feature names to values.\n",
    "# Example:\n",
    "#    train_data[0] == {'feature_name' : ..., 'label' : ...}\n",
    "train_data = []\n",
    "valid_data = []\n",
    "# ...\n",
    "\n",
    "base = {'train' : 'train_tfrecords/', 'valid' : 'valid_tfrecords/'}\n",
    "files = {'train' : train_data, 'valid' : valid_data}\n",
    "\n",
    "# Make these base directories if they don't already exist\n",
    "for k in base:\n",
    "    dirs = base[k].split('/')\n",
    "    for d in range(len(dirs)):\n",
    "        fdir = '/'.join(dirs[0:d+1])\n",
    "        if not os.path.exists(fdir):\n",
    "            os.mkdir(fdir)\n",
    "        \n",
    "records_per_file = 50\n",
    "for mode in ['train', 'valid']:\n",
    "    print('Creating ' + mode + ' TFRecords...')\n",
    "    for r in range(0, len(files[mode]), records_per_file):\n",
    "        file_name = base[mode] + str(r) + '.tfrecord'\n",
    "        record_files = files[mode][r:r+records_per_file]\n",
    "        create_tfrecord(file_name, record_files, parse)"
   ]
  }
 ],
 "metadata": {
  "kernelspec": {
   "display_name": "Python 3",
   "language": "python",
   "name": "python3"
  },
  "language_info": {
   "codemirror_mode": {
    "name": "ipython",
    "version": 3
   },
   "file_extension": ".py",
   "mimetype": "text/x-python",
   "name": "python",
   "nbconvert_exporter": "python",
   "pygments_lexer": "ipython3",
   "version": "3.6.1"
  }
 },
 "nbformat": 4,
 "nbformat_minor": 2
}
