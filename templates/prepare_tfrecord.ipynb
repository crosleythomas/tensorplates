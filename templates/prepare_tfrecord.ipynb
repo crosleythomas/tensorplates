{
 "cells": [
  {
   "cell_type": "markdown",
   "metadata": {},
   "source": [
    "# Template for Preparing Data as TFRecords\n",
    "TFRecord (*.tfrecord) is the recommended format for loading data into TensorFlow models.\n",
    "\n",
    "This template shows how to save data as tfrecord files.\n",
    "\n",
    "Relevant TensorFlow Docs\n",
    "<ul>\n",
    "    <li><a href='https://www.tensorflow.org/api_docs/python/tf/train/Int64List'>Int64List</a> and <a href='https://www.tensorflow.org/api_docs/python/tf/train/BytesList'>BytesList</a> and <a href='https://www.tensorflow.org/api_docs/python/tf/train/FloatList'>FloatList</a></li>\n",
    "    <li><a href='https://www.tensorflow.org/versions/master/api_docs/python/tf/train/Feature'>Feature</a></li>\n",
    "    <li><a href='https://www.tensorflow.org/versions/master/api_docs/python/tf/train/Example'>Example</a></li>\n",
    "    <li><a href='https://www.tensorflow.org/api_docs/python/tf/python_io/TFRecordWriter'>TFRecordWriter</a></li>\n",
    "    \n",
    "</ul>\n",
    "\n",
    "Template based off great blog post tutorial by Machine Learning Guru <a href='http://www.machinelearninguru.com/deep_learning/tensorflow/basics/tfrecord/tfrecord.html'>How to write into and read from a TFRecords file in TensorFlow</a> and TensorFlow example <a href='https://github.com/tensorflow/tensorflow/blob/master/tensorflow/examples/how_tos/reading_data/convert_to_records.py'>here</a>."
   ]
  },
  {
   "cell_type": "code",
   "execution_count": 7,
   "metadata": {},
   "outputs": [],
   "source": [
    "import tensorflow as tf\n",
    "\n",
    "def int64_feature(value):\n",
    "    return tf.train.Feature(int64_list=tf.train.Int64List(value=[value]))\n",
    "\n",
    "def bytes_feature(value):\n",
    "    return tf.train.Feature(bytes_list=tf.train.BytesList(value=[value]))\n",
    "\n",
    "def float_feature(value):\n",
    "    return tf.train.Feature(bytes_list=tf.train.FloatList(value=[value]))"
   ]
  },
  {
   "cell_type": "code",
   "execution_count": 1,
   "metadata": {},
   "outputs": [],
   "source": [
    "''' Create a TFRecords file.\n",
    "    \n",
    "    inputs:\n",
    "        filename - name of TFRecord file, <filename>.tfrecord\n",
    "        examples - python dictionary of examples to write to <filename>.tfrecord\n",
    "                 - dictionary keys can be different attributes of example, such\n",
    "                   as the 3D image and a label, {'images': ..., 'labels': ...}\n",
    "        parse_fn - function taht parses the example numbered index from examples  \n",
    "                    and returns its dictionary of feaures ready to be passed \n",
    "                    to tf.train.Features(feature=...)\n",
    "'''\n",
    "def create_tfrecord(filename, examples, parse_fn):\n",
    "    keys = examples.keys()\n",
    "    num_examples = examples[list(keys)[0]].shape[0]\n",
    "    writer = tf.python_io.TFRecordWriter(filename)\n",
    "    \n",
    "    # Write each data examplar to TFRecord File\n",
    "    for e in range(num_emamples):\n",
    "        # Parse this example\n",
    "        features = parse_fn(examples, e)\n",
    "        \n",
    "        # Create Example out of Features\n",
    "        example = tf.train.Example(features=tf.train.Features(feature=features))\n",
    "\n",
    "        # Write Example to TFRecord file\n",
    "        writer.write(example.SerializeToString())\n",
    "\n",
    "        # Monitor progress\n",
    "        if not e % 1000 and e != 0:\n",
    "            print(str(e) + ' examples written to ' + str(filename) ''.')"
   ]
  },
  {
   "cell_type": "code",
   "execution_count": null,
   "metadata": {},
   "outputs": [],
   "source": [
    "''' Parses the example numbered index from examples and  returns its dictionary \n",
    "        of feaures ready to be passed to tf.train.Features(feature=...)\n",
    "\n",
    "    inputs: \n",
    "        examples - dictionary of each example where\n",
    "            examples['key'] is a list of some attribute for each example, such as 'image' or 'label'\n",
    "            examples['key'][i] is the value of 'key' for example i\n",
    "        index - the example to parse\n",
    "    \n",
    "    outputs:\n",
    "        features - dictionary of features for the <index> element of the dataset\n",
    "\n",
    "'''\n",
    "def parse(examples, index):\n",
    "    \n",
    "    features = {\n",
    "\n",
    "    ##########################\n",
    "    ###   Your Code Here   ###\n",
    "    ##########################\n",
    "        \n",
    "    }\n",
    "\n",
    "    return features\n"
   ]
  },
  {
   "cell_type": "code",
   "execution_count": null,
   "metadata": {},
   "outputs": [],
   "source": [
    "# Gather Data\n",
    "train_data = {}\n",
    "val_data = {}\n",
    "\n",
    "##########################\n",
    "###   Your Code Here   ###\n",
    "##########################\n"
   ]
  },
  {
   "cell_type": "code",
   "execution_count": null,
   "metadata": {},
   "outputs": [],
   "source": [
    "train_file = ''\n",
    "valid_file = ''"
   ]
  },
  {
   "cell_type": "code",
   "execution_count": null,
   "metadata": {},
   "outputs": [],
   "source": [
    "print('Creating train TFRecord ' + str(train_file))\n",
    "create_tfrecord(train_file, train_data, parse)\n",
    "print('Created train TFRecord ' + str(train_file) + '\\n')\n",
    "\n",
    "print('Creating validation TFRecord ' + str(val_file))\n",
    "create_tfrecord(val_file, val_data, parse)\n",
    "print('Created validation TFRecord ' + str(val_file) + '\\n')"
   ]
  }
 ],
 "metadata": {
  "kernelspec": {
   "display_name": "Python 3",
   "language": "python",
   "name": "python3"
  },
  "language_info": {
   "codemirror_mode": {
    "name": "ipython",
    "version": 3
   },
   "file_extension": ".py",
   "mimetype": "text/x-python",
   "name": "python",
   "nbconvert_exporter": "python",
   "pygments_lexer": "ipython3",
   "version": "3.6.1"
  }
 },
 "nbformat": 4,
 "nbformat_minor": 2
}
